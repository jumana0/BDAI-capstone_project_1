{
 "cells": [
  {
   "cell_type": "code",
   "execution_count": 50,
   "metadata": {},
   "outputs": [
    {
     "name": "stderr",
     "output_type": "stream",
     "text": [
      "[nltk_data] Downloading package stopwords to\n",
      "[nltk_data]     C:\\Users\\juman\\AppData\\Roaming\\nltk_data...\n",
      "[nltk_data]   Package stopwords is already up-to-date!\n"
     ]
    }
   ],
   "source": [
    "import pandas as pd\n",
    "import string\n",
    "import re \n",
    "import nltk \n",
    "import pickle\n",
    "from sklearn.preprocessing import LabelEncoder #to encode the features\n",
    "from nltk.stem import WordNetLemmatizer \n",
    "from nltk.corpus import stopwords\n",
    "nltk.download('stopwords') \n",
    "from sklearn.feature_extraction.text import CountVectorizer"
   ]
  },
  {
   "cell_type": "code",
   "execution_count": 2,
   "metadata": {},
   "outputs": [],
   "source": [
    "Dec = pd.read_csv(\"New test_7.csv\" , encoding=\"ISO-8859-1\") #read description csv\n",
    "Dec.drop('Unnamed: 0',axis=1,inplace=True) #Drop Unnamed: 0 column\n",
    "Dec.dropna(inplace=True) #drop null values"
   ]
  },
  {
   "cell_type": "code",
   "execution_count": 3,
   "metadata": {},
   "outputs": [
    {
     "data": {
      "text/html": [
       "<div>\n",
       "<style scoped>\n",
       "    .dataframe tbody tr th:only-of-type {\n",
       "        vertical-align: middle;\n",
       "    }\n",
       "\n",
       "    .dataframe tbody tr th {\n",
       "        vertical-align: top;\n",
       "    }\n",
       "\n",
       "    .dataframe thead th {\n",
       "        text-align: right;\n",
       "    }\n",
       "</style>\n",
       "<table border=\"1\" class=\"dataframe\">\n",
       "  <thead>\n",
       "    <tr style=\"text-align: right;\">\n",
       "      <th></th>\n",
       "      <th>Unnamed: 0</th>\n",
       "      <th>date_</th>\n",
       "      <th>user_id_maped</th>\n",
       "      <th>program_name</th>\n",
       "      <th>duration_seconds</th>\n",
       "      <th>program_class</th>\n",
       "      <th>season</th>\n",
       "      <th>episode</th>\n",
       "      <th>program_desc</th>\n",
       "      <th>program_genre</th>\n",
       "      <th>series_title</th>\n",
       "      <th>hd</th>\n",
       "      <th>original_name</th>\n",
       "    </tr>\n",
       "  </thead>\n",
       "  <tbody>\n",
       "    <tr>\n",
       "      <th>0</th>\n",
       "      <td>1</td>\n",
       "      <td>2017-05-27</td>\n",
       "      <td>26138</td>\n",
       "      <td>100 treets</td>\n",
       "      <td>40</td>\n",
       "      <td>MOVIE</td>\n",
       "      <td>0</td>\n",
       "      <td>0</td>\n",
       "      <td>Drama Movie100 Streets</td>\n",
       "      <td>Drama</td>\n",
       "      <td>0</td>\n",
       "      <td>0</td>\n",
       "      <td>100 treets</td>\n",
       "    </tr>\n",
       "    <tr>\n",
       "      <th>1</th>\n",
       "      <td>3</td>\n",
       "      <td>2017-05-21</td>\n",
       "      <td>7946</td>\n",
       "      <td>Moana</td>\n",
       "      <td>17</td>\n",
       "      <td>MOVIE</td>\n",
       "      <td>0</td>\n",
       "      <td>0</td>\n",
       "      <td>Animation MovieMoana (HD)</td>\n",
       "      <td>Animation</td>\n",
       "      <td>0</td>\n",
       "      <td>1</td>\n",
       "      <td>Moana</td>\n",
       "    </tr>\n",
       "    <tr>\n",
       "      <th>2</th>\n",
       "      <td>4</td>\n",
       "      <td>2017-08-10</td>\n",
       "      <td>7418</td>\n",
       "      <td>The Mermaid Princess</td>\n",
       "      <td>8</td>\n",
       "      <td>MOVIE</td>\n",
       "      <td>0</td>\n",
       "      <td>0</td>\n",
       "      <td>Animation MovieThe Mermaid Princess (HD)</td>\n",
       "      <td>Animation</td>\n",
       "      <td>0</td>\n",
       "      <td>1</td>\n",
       "      <td>The Mermaid Princess</td>\n",
       "    </tr>\n",
       "  </tbody>\n",
       "</table>\n",
       "</div>"
      ],
      "text/plain": [
       "   Unnamed: 0       date_  user_id_maped           program_name  \\\n",
       "0           1  2017-05-27          26138             100 treets   \n",
       "1           3  2017-05-21           7946                 Moana    \n",
       "2           4  2017-08-10           7418  The Mermaid Princess    \n",
       "\n",
       "   duration_seconds program_class  season  episode  \\\n",
       "0                40         MOVIE       0        0   \n",
       "1                17         MOVIE       0        0   \n",
       "2                 8         MOVIE       0        0   \n",
       "\n",
       "                               program_desc program_genre  series_title  hd  \\\n",
       "0                    Drama Movie100 Streets         Drama             0   0   \n",
       "1                 Animation MovieMoana (HD)     Animation             0   1   \n",
       "2  Animation MovieThe Mermaid Princess (HD)     Animation             0   1   \n",
       "\n",
       "          original_name  \n",
       "0            100 treets  \n",
       "1                 Moana  \n",
       "2  The Mermaid Princess  "
      ]
     },
     "execution_count": 3,
     "metadata": {},
     "output_type": "execute_result"
    }
   ],
   "source": [
    "JawwyTV_df = pd.read_csv(\"Final_Dataset.txt\",sep=\",\") #read the Final_Dataset csv\n",
    "Stc_df = pd.read_excel(\"stc TV Data Set_T3.xlsb\") #read the stc TV Data Set_T3 csv\n",
    "JawwyTV_df.head(3)"
   ]
  },
  {
   "cell_type": "code",
   "execution_count": 4,
   "metadata": {},
   "outputs": [
    {
     "data": {
      "text/html": [
       "<div>\n",
       "<style scoped>\n",
       "    .dataframe tbody tr th:only-of-type {\n",
       "        vertical-align: middle;\n",
       "    }\n",
       "\n",
       "    .dataframe tbody tr th {\n",
       "        vertical-align: top;\n",
       "    }\n",
       "\n",
       "    .dataframe thead th {\n",
       "        text-align: right;\n",
       "    }\n",
       "</style>\n",
       "<table border=\"1\" class=\"dataframe\">\n",
       "  <thead>\n",
       "    <tr style=\"text-align: right;\">\n",
       "      <th></th>\n",
       "      <th>Unnamed: 0</th>\n",
       "      <th>user_id_maped</th>\n",
       "      <th>program_name</th>\n",
       "      <th>rating</th>\n",
       "      <th>date_</th>\n",
       "      <th>program_genre</th>\n",
       "    </tr>\n",
       "  </thead>\n",
       "  <tbody>\n",
       "    <tr>\n",
       "      <th>0</th>\n",
       "      <td>0</td>\n",
       "      <td>26138</td>\n",
       "      <td>100 treets</td>\n",
       "      <td>1</td>\n",
       "      <td>2017-05-27</td>\n",
       "      <td>Drama</td>\n",
       "    </tr>\n",
       "    <tr>\n",
       "      <th>1</th>\n",
       "      <td>1</td>\n",
       "      <td>7946</td>\n",
       "      <td>Moana</td>\n",
       "      <td>1</td>\n",
       "      <td>2017-05-21</td>\n",
       "      <td>Animation</td>\n",
       "    </tr>\n",
       "    <tr>\n",
       "      <th>2</th>\n",
       "      <td>2</td>\n",
       "      <td>7418</td>\n",
       "      <td>The Mermaid Princess</td>\n",
       "      <td>1</td>\n",
       "      <td>2017-08-10</td>\n",
       "      <td>Animation</td>\n",
       "    </tr>\n",
       "  </tbody>\n",
       "</table>\n",
       "</div>"
      ],
      "text/plain": [
       "   Unnamed: 0  user_id_maped          program_name  rating      date_  \\\n",
       "0           0          26138            100 treets       1 2017-05-27   \n",
       "1           1           7946                 Moana       1 2017-05-21   \n",
       "2           2           7418  The Mermaid Princess       1 2017-08-10   \n",
       "\n",
       "  program_genre  \n",
       "0         Drama  \n",
       "1     Animation  \n",
       "2     Animation  "
      ]
     },
     "execution_count": 4,
     "metadata": {},
     "output_type": "execute_result"
    }
   ],
   "source": [
    "Stc_df.head(3)"
   ]
  },
  {
   "cell_type": "code",
   "execution_count": 5,
   "metadata": {},
   "outputs": [],
   "source": [
    "JawwyTV_df.drop(columns=\"Unnamed: 0\",inplace=True) #Drop Unnamed: 0 column"
   ]
  },
  {
   "cell_type": "code",
   "execution_count": 6,
   "metadata": {},
   "outputs": [
    {
     "name": "stdout",
     "output_type": "stream",
     "text": [
      "(3598607, 12)\n",
      "(1048575, 6)\n"
     ]
    }
   ],
   "source": [
    "print(JawwyTV_df.shape)\n",
    "print(Stc_df.shape)"
   ]
  },
  {
   "cell_type": "code",
   "execution_count": 7,
   "metadata": {},
   "outputs": [],
   "source": [
    "JawwyTV_df.rename(columns={'original_name':'name'},inplace=True) #rename the columns"
   ]
  },
  {
   "cell_type": "code",
   "execution_count": 8,
   "metadata": {},
   "outputs": [],
   "source": [
    "JawwyTV_df_new = JawwyTV_df.head(1048575) #limit the JawwyTV_df to become equal with Stc_df\n",
    "JawwyTV_df_new['rating'] = Stc_df['rating'] #add rating column to JawwyTV_df"
   ]
  },
  {
   "cell_type": "code",
   "execution_count": 9,
   "metadata": {},
   "outputs": [
    {
     "name": "stdout",
     "output_type": "stream",
     "text": [
      "<class 'pandas.core.frame.DataFrame'>\n",
      "RangeIndex: 1048575 entries, 0 to 1048574\n",
      "Data columns (total 13 columns):\n",
      " #   Column            Non-Null Count    Dtype \n",
      "---  ------            --------------    ----- \n",
      " 0   date_             1048575 non-null  object\n",
      " 1   user_id_maped     1048575 non-null  int64 \n",
      " 2   program_name      1048575 non-null  object\n",
      " 3   duration_seconds  1048575 non-null  int64 \n",
      " 4   program_class     1048575 non-null  object\n",
      " 5   season            1048575 non-null  int64 \n",
      " 6   episode           1048575 non-null  int64 \n",
      " 7   program_desc      1034537 non-null  object\n",
      " 8   program_genre     1048575 non-null  object\n",
      " 9   series_title      1048575 non-null  int64 \n",
      " 10  hd                1048575 non-null  int64 \n",
      " 11  name              1048575 non-null  object\n",
      " 12  rating            1048575 non-null  int64 \n",
      "dtypes: int64(7), object(6)\n",
      "memory usage: 104.0+ MB\n"
     ]
    }
   ],
   "source": [
    "JawwyTV_df_new.info() #show the column name, null values,and Dtype "
   ]
  },
  {
   "cell_type": "code",
   "execution_count": 10,
   "metadata": {},
   "outputs": [
    {
     "data": {
      "text/html": [
       "<div>\n",
       "<style scoped>\n",
       "    .dataframe tbody tr th:only-of-type {\n",
       "        vertical-align: middle;\n",
       "    }\n",
       "\n",
       "    .dataframe tbody tr th {\n",
       "        vertical-align: top;\n",
       "    }\n",
       "\n",
       "    .dataframe thead th {\n",
       "        text-align: right;\n",
       "    }\n",
       "</style>\n",
       "<table border=\"1\" class=\"dataframe\">\n",
       "  <thead>\n",
       "    <tr style=\"text-align: right;\">\n",
       "      <th></th>\n",
       "      <th>date_</th>\n",
       "      <th>program_name</th>\n",
       "      <th>program_class</th>\n",
       "      <th>program_desc</th>\n",
       "      <th>program_genre</th>\n",
       "      <th>name</th>\n",
       "    </tr>\n",
       "  </thead>\n",
       "  <tbody>\n",
       "    <tr>\n",
       "      <th>count</th>\n",
       "      <td>1048575</td>\n",
       "      <td>1048575</td>\n",
       "      <td>1048575</td>\n",
       "      <td>1034537</td>\n",
       "      <td>1048575</td>\n",
       "      <td>1048575</td>\n",
       "    </tr>\n",
       "    <tr>\n",
       "      <th>unique</th>\n",
       "      <td>411</td>\n",
       "      <td>8270</td>\n",
       "      <td>2</td>\n",
       "      <td>11176</td>\n",
       "      <td>16</td>\n",
       "      <td>1795</td>\n",
       "    </tr>\n",
       "    <tr>\n",
       "      <th>top</th>\n",
       "      <td>2017-04-21</td>\n",
       "      <td>The Boss Baby</td>\n",
       "      <td>SERIES/EPISODES</td>\n",
       "      <td>Animation MovieThe Boss Baby (HD)</td>\n",
       "      <td>Animation</td>\n",
       "      <td>Friends</td>\n",
       "    </tr>\n",
       "    <tr>\n",
       "      <th>freq</th>\n",
       "      <td>4512</td>\n",
       "      <td>23625</td>\n",
       "      <td>560174</td>\n",
       "      <td>23625</td>\n",
       "      <td>401730</td>\n",
       "      <td>32997</td>\n",
       "    </tr>\n",
       "  </tbody>\n",
       "</table>\n",
       "</div>"
      ],
      "text/plain": [
       "             date_    program_name    program_class  \\\n",
       "count      1048575         1048575          1048575   \n",
       "unique         411            8270                2   \n",
       "top     2017-04-21  The Boss Baby   SERIES/EPISODES   \n",
       "freq          4512           23625           560174   \n",
       "\n",
       "                             program_desc program_genre       name  \n",
       "count                             1034537       1048575    1048575  \n",
       "unique                              11176            16       1795  \n",
       "top     Animation MovieThe Boss Baby (HD)     Animation  Friends    \n",
       "freq                                23625        401730      32997  "
      ]
     },
     "execution_count": 10,
     "metadata": {},
     "output_type": "execute_result"
    }
   ],
   "source": [
    "JawwyTV_df_new.describe(exclude='number') #generate descriptive statistics."
   ]
  },
  {
   "cell_type": "code",
   "execution_count": 11,
   "metadata": {},
   "outputs": [
    {
     "data": {
      "text/html": [
       "<div>\n",
       "<style scoped>\n",
       "    .dataframe tbody tr th:only-of-type {\n",
       "        vertical-align: middle;\n",
       "    }\n",
       "\n",
       "    .dataframe tbody tr th {\n",
       "        vertical-align: top;\n",
       "    }\n",
       "\n",
       "    .dataframe thead th {\n",
       "        text-align: right;\n",
       "    }\n",
       "</style>\n",
       "<table border=\"1\" class=\"dataframe\">\n",
       "  <thead>\n",
       "    <tr style=\"text-align: right;\">\n",
       "      <th></th>\n",
       "      <th>user_id_maped</th>\n",
       "      <th>duration_seconds</th>\n",
       "      <th>season</th>\n",
       "      <th>episode</th>\n",
       "      <th>series_title</th>\n",
       "      <th>hd</th>\n",
       "      <th>rating</th>\n",
       "    </tr>\n",
       "  </thead>\n",
       "  <tbody>\n",
       "    <tr>\n",
       "      <th>count</th>\n",
       "      <td>1.048575e+06</td>\n",
       "      <td>1.048575e+06</td>\n",
       "      <td>1.048575e+06</td>\n",
       "      <td>1.048575e+06</td>\n",
       "      <td>1.048575e+06</td>\n",
       "      <td>1.048575e+06</td>\n",
       "      <td>1.048575e+06</td>\n",
       "    </tr>\n",
       "    <tr>\n",
       "      <th>mean</th>\n",
       "      <td>1.709266e+04</td>\n",
       "      <td>1.230957e+03</td>\n",
       "      <td>1.342139e+00</td>\n",
       "      <td>6.157952e+00</td>\n",
       "      <td>1.205922e-02</td>\n",
       "      <td>3.862728e-01</td>\n",
       "      <td>2.497283e+00</td>\n",
       "    </tr>\n",
       "    <tr>\n",
       "      <th>std</th>\n",
       "      <td>1.003513e+04</td>\n",
       "      <td>6.821058e+03</td>\n",
       "      <td>2.104095e+00</td>\n",
       "      <td>1.222015e+01</td>\n",
       "      <td>1.091504e-01</td>\n",
       "      <td>4.868946e-01</td>\n",
       "      <td>1.119837e+00</td>\n",
       "    </tr>\n",
       "    <tr>\n",
       "      <th>min</th>\n",
       "      <td>1.000000e+00</td>\n",
       "      <td>2.000000e+00</td>\n",
       "      <td>0.000000e+00</td>\n",
       "      <td>0.000000e+00</td>\n",
       "      <td>0.000000e+00</td>\n",
       "      <td>0.000000e+00</td>\n",
       "      <td>1.000000e+00</td>\n",
       "    </tr>\n",
       "    <tr>\n",
       "      <th>25%</th>\n",
       "      <td>8.253000e+03</td>\n",
       "      <td>5.200000e+01</td>\n",
       "      <td>0.000000e+00</td>\n",
       "      <td>0.000000e+00</td>\n",
       "      <td>0.000000e+00</td>\n",
       "      <td>0.000000e+00</td>\n",
       "      <td>1.000000e+00</td>\n",
       "    </tr>\n",
       "    <tr>\n",
       "      <th>50%</th>\n",
       "      <td>1.714900e+04</td>\n",
       "      <td>1.190000e+02</td>\n",
       "      <td>1.000000e+00</td>\n",
       "      <td>1.000000e+00</td>\n",
       "      <td>0.000000e+00</td>\n",
       "      <td>0.000000e+00</td>\n",
       "      <td>2.000000e+00</td>\n",
       "    </tr>\n",
       "    <tr>\n",
       "      <th>75%</th>\n",
       "      <td>2.566500e+04</td>\n",
       "      <td>1.328000e+03</td>\n",
       "      <td>1.000000e+00</td>\n",
       "      <td>9.000000e+00</td>\n",
       "      <td>0.000000e+00</td>\n",
       "      <td>1.000000e+00</td>\n",
       "      <td>3.000000e+00</td>\n",
       "    </tr>\n",
       "    <tr>\n",
       "      <th>max</th>\n",
       "      <td>3.428000e+04</td>\n",
       "      <td>1.461329e+06</td>\n",
       "      <td>2.300000e+01</td>\n",
       "      <td>2.820000e+02</td>\n",
       "      <td>1.000000e+00</td>\n",
       "      <td>1.000000e+00</td>\n",
       "      <td>4.000000e+00</td>\n",
       "    </tr>\n",
       "  </tbody>\n",
       "</table>\n",
       "</div>"
      ],
      "text/plain": [
       "       user_id_maped  duration_seconds        season       episode  \\\n",
       "count   1.048575e+06      1.048575e+06  1.048575e+06  1.048575e+06   \n",
       "mean    1.709266e+04      1.230957e+03  1.342139e+00  6.157952e+00   \n",
       "std     1.003513e+04      6.821058e+03  2.104095e+00  1.222015e+01   \n",
       "min     1.000000e+00      2.000000e+00  0.000000e+00  0.000000e+00   \n",
       "25%     8.253000e+03      5.200000e+01  0.000000e+00  0.000000e+00   \n",
       "50%     1.714900e+04      1.190000e+02  1.000000e+00  1.000000e+00   \n",
       "75%     2.566500e+04      1.328000e+03  1.000000e+00  9.000000e+00   \n",
       "max     3.428000e+04      1.461329e+06  2.300000e+01  2.820000e+02   \n",
       "\n",
       "       series_title            hd        rating  \n",
       "count  1.048575e+06  1.048575e+06  1.048575e+06  \n",
       "mean   1.205922e-02  3.862728e-01  2.497283e+00  \n",
       "std    1.091504e-01  4.868946e-01  1.119837e+00  \n",
       "min    0.000000e+00  0.000000e+00  1.000000e+00  \n",
       "25%    0.000000e+00  0.000000e+00  1.000000e+00  \n",
       "50%    0.000000e+00  0.000000e+00  2.000000e+00  \n",
       "75%    0.000000e+00  1.000000e+00  3.000000e+00  \n",
       "max    1.000000e+00  1.000000e+00  4.000000e+00  "
      ]
     },
     "execution_count": 11,
     "metadata": {},
     "output_type": "execute_result"
    }
   ],
   "source": [
    "JawwyTV_df_new.describe() #generate descriptive statistics."
   ]
  },
  {
   "cell_type": "code",
   "execution_count": 12,
   "metadata": {},
   "outputs": [
    {
     "data": {
      "text/plain": [
       "date_                   0\n",
       "user_id_maped           0\n",
       "program_name            0\n",
       "duration_seconds        0\n",
       "program_class           0\n",
       "season                  0\n",
       "episode                 0\n",
       "program_desc        14038\n",
       "program_genre           0\n",
       "series_title            0\n",
       "hd                      0\n",
       "name                    0\n",
       "rating                  0\n",
       "dtype: int64"
      ]
     },
     "execution_count": 12,
     "metadata": {},
     "output_type": "execute_result"
    }
   ],
   "source": [
    "JawwyTV_df_new.isnull().sum() #the sum of missing values"
   ]
  },
  {
   "cell_type": "code",
   "execution_count": 13,
   "metadata": {},
   "outputs": [],
   "source": [
    "JawwyTV_df_new['program_name'].replace('Dunkirk ', 'Dunkirk',inplace=True) #remove space from the name"
   ]
  },
  {
   "cell_type": "code",
   "execution_count": 15,
   "metadata": {},
   "outputs": [],
   "source": [
    "#set the program_genre as Action for Dunkirk \n",
    "JawwyTV_df_new.loc[JawwyTV_df_new['program_name'] == 'Dunkirk', 'program_genre' ] = 'Action' \n",
    "#set the program_genre as Animation for Batman Unlimited: Animal Instincts (for Viewing)\n",
    "JawwyTV_df_new.loc[JawwyTV_df_new['program_name'] == 'Batman Unlimited: Animal Instincts (for Viewing)', 'program_genre' ] = 'Animation'"
   ]
  },
  {
   "cell_type": "code",
   "execution_count": 16,
   "metadata": {},
   "outputs": [],
   "source": [
    "JawwyTV_df_new.loc[JawwyTV_df_new['name'] == 'Harry  ', 'program_genre' ] = 'Crime' #set the program_genre as Crime for Harry \n",
    "JawwyTV_df_new.loc[JawwyTV_df_new['name'] == 'Friends  ', 'program_genre' ] = 'Comedy' #set the program_genre as Comedy for Friends \n",
    "JawwyTV_df_new.loc[JawwyTV_df_new['name'] == 'Sehhee Wa aree  ', 'program_genre' ] = 'Comedy' #set the program_genre as Comedy for Sehhee Wa aree  "
   ]
  },
  {
   "cell_type": "code",
   "execution_count": 17,
   "metadata": {},
   "outputs": [],
   "source": [
    "#reset the program_desc columns have the movies (genre,class,name,hd) \n",
    "for idx in JawwyTV_df_new.index:\n",
    "     if JawwyTV_df_new.loc[idx,'hd']==\"1\":\n",
    "             JawwyTV_df_new.loc[idx,'program_desc'] = JawwyTV_df_new.loc[idx,'program_genre'] + \" \"+ JawwyTV_df.loc[idx,'program_class']+ \" \"+JawwyTV_df.loc[idx,'name'] + \" \"+ '(HD)'\n",
    "     else:\n",
    "            JawwyTV_df_new.loc[idx,'program_desc'] = JawwyTV_df_new.loc[idx,'program_genre'] + \" \"+ JawwyTV_df.loc[idx,'program_class']+ \" \"+JawwyTV_df.loc[idx,'name']"
   ]
  },
  {
   "cell_type": "code",
   "execution_count": 226,
   "metadata": {},
   "outputs": [],
   "source": [
    "JawwyTV_df_new.to_csv('JawwyTV_df_new.csv') #save the df to csv file"
   ]
  },
  {
   "cell_type": "code",
   "execution_count": 18,
   "metadata": {},
   "outputs": [],
   "source": [
    "JawwyTV_df_new.drop([\"season\", \"episode\",\"series_title\",'date_','program_name'],axis=1, inplace=True) #drop the colmns that we don't need"
   ]
  },
  {
   "cell_type": "code",
   "execution_count": 19,
   "metadata": {},
   "outputs": [],
   "source": [
    "JawwyTV_df_new = JawwyTV_df_new.merge(Dec, how='left' , on='name') #join the description with movies names"
   ]
  },
  {
   "cell_type": "code",
   "execution_count": 20,
   "metadata": {},
   "outputs": [],
   "source": [
    "JawwyTV_df_new['duration_hours'] = JawwyTV_df_new['duration_seconds'] / 3600 #add new column for duration hours by divide the sec to 3600\n",
    "JawwyTV_df_new.drop(\"duration_seconds\",axis=1, inplace=True) #drop the duration_seconds column"
   ]
  },
  {
   "cell_type": "code",
   "execution_count": 21,
   "metadata": {},
   "outputs": [],
   "source": [
    "JawwyTV_df_new.drop('url',axis=1, inplace=True) #drop the url column after joining"
   ]
  },
  {
   "cell_type": "code",
   "execution_count": 22,
   "metadata": {},
   "outputs": [
    {
     "data": {
      "text/html": [
       "<div>\n",
       "<style scoped>\n",
       "    .dataframe tbody tr th:only-of-type {\n",
       "        vertical-align: middle;\n",
       "    }\n",
       "\n",
       "    .dataframe tbody tr th {\n",
       "        vertical-align: top;\n",
       "    }\n",
       "\n",
       "    .dataframe thead th {\n",
       "        text-align: right;\n",
       "    }\n",
       "</style>\n",
       "<table border=\"1\" class=\"dataframe\">\n",
       "  <thead>\n",
       "    <tr style=\"text-align: right;\">\n",
       "      <th></th>\n",
       "      <th>user_id_maped</th>\n",
       "      <th>program_class</th>\n",
       "      <th>program_desc</th>\n",
       "      <th>program_genre</th>\n",
       "      <th>hd</th>\n",
       "      <th>name</th>\n",
       "      <th>rating</th>\n",
       "      <th>dec</th>\n",
       "      <th>duration_hours</th>\n",
       "    </tr>\n",
       "  </thead>\n",
       "  <tbody>\n",
       "    <tr>\n",
       "      <th>0</th>\n",
       "      <td>26138</td>\n",
       "      <td>MOVIE</td>\n",
       "      <td>Drama MOVIE 100 treets</td>\n",
       "      <td>Drama</td>\n",
       "      <td>0</td>\n",
       "      <td>100 treets</td>\n",
       "      <td>1</td>\n",
       "      <td>Three people, three extraordinary stories. All...</td>\n",
       "      <td>0.011111</td>\n",
       "    </tr>\n",
       "    <tr>\n",
       "      <th>1</th>\n",
       "      <td>7946</td>\n",
       "      <td>MOVIE</td>\n",
       "      <td>Animation MOVIE Moana</td>\n",
       "      <td>Animation</td>\n",
       "      <td>1</td>\n",
       "      <td>Moana</td>\n",
       "      <td>1</td>\n",
       "      <td>In Ancient Polynesia, when a terrible curse in...</td>\n",
       "      <td>0.004722</td>\n",
       "    </tr>\n",
       "    <tr>\n",
       "      <th>2</th>\n",
       "      <td>7418</td>\n",
       "      <td>MOVIE</td>\n",
       "      <td>Animation MOVIE The Mermaid Princess</td>\n",
       "      <td>Animation</td>\n",
       "      <td>1</td>\n",
       "      <td>The Mermaid Princess</td>\n",
       "      <td>1</td>\n",
       "      <td>A kind-hearted mermaid, braving the Sea-God's ...</td>\n",
       "      <td>0.002222</td>\n",
       "    </tr>\n",
       "  </tbody>\n",
       "</table>\n",
       "</div>"
      ],
      "text/plain": [
       "   user_id_maped program_class                          program_desc  \\\n",
       "0          26138         MOVIE                Drama MOVIE 100 treets   \n",
       "1           7946         MOVIE                 Animation MOVIE Moana   \n",
       "2           7418         MOVIE  Animation MOVIE The Mermaid Princess   \n",
       "\n",
       "  program_genre  hd                  name  rating  \\\n",
       "0         Drama   0            100 treets       1   \n",
       "1     Animation   1                 Moana       1   \n",
       "2     Animation   1  The Mermaid Princess       1   \n",
       "\n",
       "                                                 dec  duration_hours  \n",
       "0  Three people, three extraordinary stories. All...        0.011111  \n",
       "1  In Ancient Polynesia, when a terrible curse in...        0.004722  \n",
       "2  A kind-hearted mermaid, braving the Sea-God's ...        0.002222  "
      ]
     },
     "execution_count": 22,
     "metadata": {},
     "output_type": "execute_result"
    }
   ],
   "source": [
    "JawwyTV_df_new.head(3)"
   ]
  },
  {
   "cell_type": "code",
   "execution_count": 23,
   "metadata": {},
   "outputs": [],
   "source": [
    "JawwyTV_df_new.dropna(inplace=True) #drop null values"
   ]
  },
  {
   "cell_type": "code",
   "execution_count": 51,
   "metadata": {},
   "outputs": [
    {
     "name": "stdout",
     "output_type": "stream",
     "text": [
      "!\"#$%&'()*+,-./:;<=>?@[\\]^_`{|}~\n"
     ]
    }
   ],
   "source": [
    "print(string.punctuation )"
   ]
  },
  {
   "cell_type": "code",
   "execution_count": 24,
   "metadata": {},
   "outputs": [],
   "source": [
    "lem = WordNetLemmatizer() #init Lemmatizer\n",
    "english_punctuations = string.punctuation #string constants for the punctuation\n",
    "punctuations_list = english_punctuations + english_punctuations #create punctuations_list\n",
    "def remove_punctuations(text): #remove punctuation from the text\n",
    "    translator = str.maketrans('', '', punctuations_list)\n",
    "    return text.translate(translator)\n",
    "#text preprocessing function by lower the text, regular expression, stop word removel, and Lemmatizer\n",
    "def processPost(text):\n",
    "    text=text.lower() \n",
    "    for letter in '.(/ÀÈÌÒÙàèìòùÁÉÍÓÚÝáéíóúýÂÊÎÔÛâêîôûÃÑÕãñõÄËÏÖÜŸäëïöüÿ½ï':\n",
    "        text = text.replace(letter,'')\n",
    "    text = re.sub('@[^\\s]+', ' ', text) \n",
    "    text = re.sub('((www\\.[^\\s]+)|(https?://[^\\s]+))',' ',text) \n",
    "    text = re.sub(r'#([^\\s]+)', r'\\1', text)\n",
    "    text= remove_punctuations(text)\n",
    "    text=text.replace('read all', ' ')\n",
    "    text_list = text.split()\n",
    "    text_list =  [lem.lemmatize(word) for word in text_list if not word in set(stopwords.words('english')) and len(word) > 1 ]\n",
    "    text = ' '.join(text_list)\n",
    "    return text"
   ]
  },
  {
   "cell_type": "code",
   "execution_count": 25,
   "metadata": {},
   "outputs": [],
   "source": [
    "Dec_df = JawwyTV_df_new[['dec', 'name','program_desc']].drop_duplicates() #init df with three columns"
   ]
  },
  {
   "cell_type": "code",
   "execution_count": 26,
   "metadata": {},
   "outputs": [],
   "source": [
    "Dec_df['desc_new']=Dec_df['dec'].map(lambda x:processPost(x)) #apply preprocessing to description\n",
    "Dec_df['program_desc_new']=Dec_df['program_desc'].map(lambda x:processPost(x)) #apply preprocessing to program description"
   ]
  },
  {
   "cell_type": "code",
   "execution_count": 30,
   "metadata": {},
   "outputs": [],
   "source": [
    "Dec_df['full_Dec'] = Dec_df['desc_new'] + \" \" + Dec_df['program_desc_new'] #add the program description to the description"
   ]
  },
  {
   "cell_type": "code",
   "execution_count": 31,
   "metadata": {},
   "outputs": [],
   "source": [
    "Dec_df.to_csv(\"Dec_df.csv\") #save the description df"
   ]
  },
  {
   "cell_type": "code",
   "execution_count": 36,
   "metadata": {},
   "outputs": [],
   "source": [
    "cv_Dec = CountVectorizer(max_df=0.80, min_df=2) #init Count Vectorizer to Convert a collection of text documents to a matrix of token counts.\n",
    "Dec_matrix= cv_Dec.fit_transform(Dec_df['desc_new']) #fit and transform the description column\n",
    "cv_ProgramDec = CountVectorizer(max_df=0.80, min_df=2) #init Count Vectorizer to Convert a collection of text documents to a matrix of token counts.\n",
    "porgram_dec_matrix= cv_ProgramDec.fit_transform(Dec_df['program_desc_new']) #fit and transform the program description column\n",
    "cv_full_Dec = CountVectorizer(max_df=0.80, min_df=2) #init Count Vectorizer to Convert a collection of text documents to a matrix of token counts.\n",
    "full_Dec_matrix= cv_ProgramDec.fit_transform(Dec_df['full_Dec']) #fit and transform the full description column"
   ]
  },
  {
   "cell_type": "code",
   "execution_count": 37,
   "metadata": {},
   "outputs": [],
   "source": [
    "pickle.dump(cv_Dec, open('cv_Dec.pkl', 'wb')) #save the Count Vectorizer\n",
    "pickle.dump(Dec_matrix, open('Dec_matrix.pkl', 'wb')) #save the matrix\n",
    "pickle.dump(cv_ProgramDec, open('cv_ProgramDec.pkl', 'wb')) #save the Count Vectorizer\n",
    "pickle.dump(porgram_dec_matrix, open('porgram_dec_matrix.pkl', 'wb')) #save the matrix\n",
    "pickle.dump(cv_full_Dec, open('cv_full_Dec.pkl', 'wb')) #save the Count Vectorizer\n",
    "pickle.dump(full_Dec_matrix, open('full_Dec_matrix.pkl', 'wb')) #save the matrix"
   ]
  },
  {
   "cell_type": "code",
   "execution_count": 421,
   "metadata": {},
   "outputs": [],
   "source": [
    "colf = JawwyTV_df_new[['user_id_maped','dec','name','rating']] #init df for Collaborative Filterting\n",
    "colf['desc_new']=colf['dec'].map(lambda x:processPost(x)) #apply preprocessing to description"
   ]
  },
  {
   "cell_type": "code",
   "execution_count": 422,
   "metadata": {},
   "outputs": [],
   "source": [
    "name_en = LabelEncoder() #init LabelEncoder\n",
    "colf['name'] = name_en.fit_transform(colf['name']) #encode the name column"
   ]
  },
  {
   "cell_type": "code",
   "execution_count": 423,
   "metadata": {},
   "outputs": [],
   "source": [
    "colf.to_csv('colf.csv') #save the df\n",
    "pickle.dump(name_en, open('en.pkl', 'wb')) #save the Encoder"
   ]
  }
 ],
 "metadata": {
  "kernelspec": {
   "display_name": "Python 3 (ipykernel)",
   "language": "python",
   "name": "python3"
  },
  "language_info": {
   "codemirror_mode": {
    "name": "ipython",
    "version": 3
   },
   "file_extension": ".py",
   "mimetype": "text/x-python",
   "name": "python",
   "nbconvert_exporter": "python",
   "pygments_lexer": "ipython3",
   "version": "3.9.13"
  },
  "vscode": {
   "interpreter": {
    "hash": "b2dbf1203128af0b6968be9bada9935508394635760a08dff4f40d298095f607"
   }
  }
 },
 "nbformat": 4,
 "nbformat_minor": 2
}
